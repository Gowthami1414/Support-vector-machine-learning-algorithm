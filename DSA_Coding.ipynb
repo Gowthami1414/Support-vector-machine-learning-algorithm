{
  "nbformat": 4,
  "nbformat_minor": 0,
  "metadata": {
    "colab": {
      "provenance": [],
      "authorship_tag": "ABX9TyOXAuRiTbI02h+NLq6KHk6+",
      "include_colab_link": true
    },
    "kernelspec": {
      "name": "python3",
      "display_name": "Python 3"
    },
    "language_info": {
      "name": "python"
    }
  },
  "cells": [
    {
      "cell_type": "markdown",
      "metadata": {
        "id": "view-in-github",
        "colab_type": "text"
      },
      "source": [
        "<a href=\"https://colab.research.google.com/github/Gowthami1414/Support-vector-machine-learning-algorithm/blob/main/DSA_Coding.ipynb\" target=\"_parent\"><img src=\"https://colab.research.google.com/assets/colab-badge.svg\" alt=\"Open In Colab\"/></a>"
      ]
    },
    {
      "cell_type": "code",
      "execution_count": 1,
      "metadata": {
        "id": "N4LOfJCdkQ58",
        "colab": {
          "base_uri": "https://localhost:8080/"
        },
        "outputId": "c66b0f30-3b0f-461d-86d0-9f3e021a6dc2"
      },
      "outputs": [
        {
          "output_type": "stream",
          "name": "stdout",
          "text": [
            "helloworld\n"
          ]
        }
      ],
      "source": [
        "#1.palindrome (bruteforce)\n",
        "'''def is_palindrome(x):\n",
        "    a=''\n",
        "    for char in x:\n",
        "        a=char+a   # O(n^2)\n",
        "    return x==a\n",
        "b='121'\n",
        "if is_palindrome(b):\n",
        "    print('palin')\n",
        "else:\n",
        "    print('not')'''\n",
        "#1.1 palindrome (optimize)\n",
        "'''def a_palin(s):\n",
        "    a=str(s)\n",
        "    return s==a\n",
        "b='121'\n",
        "if a_palin(b):\n",
        "    print('palin')\n",
        "else:\n",
        "    print('not')'''\n",
        "#1.3 palindrome (two pointer)\n",
        "'''def is_palin(s):\n",
        "    left=0\n",
        "    right=len(s)-1\n",
        "    while left<right:\n",
        "        if s[left]==s[right]:\n",
        "            return \"palin\"\n",
        "        else:\n",
        "            return \"notpalin\"\n",
        "        left+=1\n",
        "        right-=1\n",
        "print(is_palin(\"mam\"))'''\n",
        "#Count number of vowels, consonants, and spaces in a string\n",
        "# bruteforce\n",
        "'''def num_a(x):\n",
        "    vo='aeiou'\n",
        "    w=0#or w=co=spa=0\n",
        "    co=0\n",
        "    spa=0\n",
        "    for char in x:\n",
        "        if char.lower() in vo:\n",
        "            w+=1\n",
        "        elif char=='':\n",
        "            spa+=1\n",
        "        else:\n",
        "            co+=1\n",
        "    return w,co,spa\n",
        "print(num_a(\"gowThamI\"))\n",
        "#print(\"vowels\",w) #error because w is local varaible.to execute this line specify another 3 varaibles=call function and type this line .\n",
        "'''\n",
        "#Remove all vowels from the string\n",
        "'''text = \"Brute Force Method Example\"\n",
        "result = \"\"\n",
        "for char in text:\n",
        "    if char not in \"aeiouAEIOU\":  # Manually checking all vowels\n",
        "        result += char  # Add non-vowel to result\n",
        "\n",
        "print(\"Original string:\", text)\n",
        "print(\"String without vowels:\", result)'''\n",
        "#Remove spaces from a string\n",
        "\n",
        "'''text = \"Brute Force Method Example\"\n",
        "result = \"\"\n",
        "for char in text:\n",
        "    if char!=\" \":  # Manually checking all vowels\n",
        "        result=result+char\n",
        "    # Add non-vowel to result\n",
        "\n",
        "print(\"Original string:\", text)\n",
        "print(\"String without vowels:\", result)'''\n",
        "#Reverse a string\n",
        "\"\"\"a=\"word\"\n",
        "print(a[::-1])\"\"\"\n",
        "#Day 2: Arrays – Basics\n",
        " #2.1 brute force\n",
        "'''\tTwo Sum\n",
        "#sol\n",
        "def twosuma(x,target):\n",
        "    for i in range(len(x)):      #n\n",
        "        for j in range(1,len(x)): #n*n=n^2     so final O(N^2) worst case||best case O(1)\n",
        "            if (x[i]+x[j]==target):\n",
        "                return([i,j])#if you use print it takes duplicates also .return exists once first match founds\n",
        "print(twosuma([5,2,11,7,2],9))'''\n",
        "#optimize\n",
        "'''def twosuma(x, target):  #1\n",
        "    seen = {}  #O(1)\n",
        "    for i, num in enumerate(x):   # n      so TC is O(n) # enumerate will  gets both index and value at same time.\n",
        "        complement = target - num  #O(1)\n",
        "        if complement in seen:  # all lines O(1)\n",
        "            print([seen[complement], i])\n",
        "            return\n",
        "        seen[num] = i # stores elem for future check\n",
        "twosuma([5,2,11,7,2],9)'''\n",
        "#2.2 .) problem o\tBest Time to Buy and Sell Stock\n",
        "#brute\n",
        "'''def max_pro(prices):\n",
        "    max_p=0\n",
        "    for i in range(len(prices)):\n",
        "        for j in range(i+1,len(prices)):\n",
        "            profit=prices[j]-prices[i]\n",
        "            max_p=max(max_p,profit)\n",
        "    return max_p\n",
        "print(max_pro([7,1,5,3,6,4]))'''\n",
        "#optimize\n",
        "'''def maxProfit(prices):\n",
        "    min_price = prices[0] #min=infinity or float('inf')\n",
        "    max_profit = 0\n",
        "    for price in prices:                    #\n",
        "        if price < min_price:\n",
        "            min_price = price\n",
        "        else:\n",
        "            max_profit = max(max_profit, price - min_price)\n",
        "\n",
        "    return max_profit\n",
        "print(maxProfit([7,1,5,3,6,4]))'''\n",
        "#for i in range(len(prices))     ✅ (uses index)\n",
        "#for i in prices                 ✅ (uses value directly)\n",
        "\n",
        "print('helloworld')\n",
        "\n",
        "\n",
        "\n",
        "\n",
        "\n",
        "\n",
        "\n",
        "\n",
        "\n",
        "\n",
        "\n",
        "\n",
        "\n",
        "\n",
        "\n",
        "\n"
      ]
    },
    {
      "cell_type": "code",
      "source": [
        "for i in range(5):\n",
        "  print(i)"
      ],
      "metadata": {
        "id": "-UIzRX6PHMRO",
        "outputId": "9dff0647-9210-4b21-c601-8a6315f77c86",
        "colab": {
          "base_uri": "https://localhost:8080/"
        }
      },
      "execution_count": 2,
      "outputs": [
        {
          "output_type": "stream",
          "name": "stdout",
          "text": [
            "0\n",
            "1\n",
            "2\n",
            "3\n",
            "4\n"
          ]
        }
      ]
    }
  ]
}